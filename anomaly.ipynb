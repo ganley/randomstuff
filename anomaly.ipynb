{
 "cells": [
  {
   "cell_type": "markdown",
   "id": "unnecessary-charge",
   "metadata": {},
   "source": [
    "# Anomaly Detection\n",
    "\n",
    "Just a notebook for me to play around with anomaly detection\n",
    "\n",
    "First up, isolation forest. The idea is to recursively separate the points, and the anomalies are those that can beseparated early in the process."
   ]
  },
  {
   "cell_type": "code",
   "execution_count": 1,
   "id": "exact-forwarding",
   "metadata": {},
   "outputs": [],
   "source": [
    "import matplotlib.pyplot as plt"
   ]
  },
  {
   "cell_type": "code",
   "execution_count": 2,
   "id": "interior-carrier",
   "metadata": {},
   "outputs": [],
   "source": [
    "import random"
   ]
  },
  {
   "cell_type": "code",
   "execution_count": 3,
   "id": "optional-thousand",
   "metadata": {},
   "outputs": [],
   "source": [
    "def partition(v, f=lambda x: x):\n",
    "    assert v\n",
    "    fv = [f(x) for x in v]\n",
    "    #split = sum(fv) / len(v)   # mean\n",
    "    split = (max(fv) + min(fv)) / 2.0   # middle\n",
    "    left = [a for a in v if f(a) < split]\n",
    "    equ = [b for b in v if f(b) == split]\n",
    "    equ0 = equ[::2]\n",
    "    equ1 = equ[1::2]\n",
    "    right = [c for c in v if f(c) > split]\n",
    "    if len(left) < len(right):\n",
    "        return (left + equ0, equ1 + right)\n",
    "    return (left + equ1, equ0 + right)        "
   ]
  },
  {
   "cell_type": "code",
   "execution_count": 4,
   "id": "conservative-marine",
   "metadata": {},
   "outputs": [],
   "source": [
    "def itree(p, d=0):\n",
    "    assert p\n",
    "    if len(p) == 1:\n",
    "        return [(p[0], d)]\n",
    "    hs = partition(p, lambda x: x[0])\n",
    "    vs = partition(p, lambda x: x[1])\n",
    "    if abs(len(hs[0]) - len(hs[1])) < abs(len(vs[0]) - len(vs[1])):\n",
    "        # horizontal split is better\n",
    "        return itree(hs[0], d + 1) + itree(hs[1], d + 1)\n",
    "    return itree(vs[0], d + 1) + itree(vs[1], d + 1)"
   ]
  },
  {
   "cell_type": "code",
   "execution_count": 5,
   "id": "assisted-dylan",
   "metadata": {},
   "outputs": [],
   "source": [
    "x = [random.randint(40,60) for i in range(50)] + [3] + [random.randint(40,60) for i in range(50)]"
   ]
  },
  {
   "cell_type": "code",
   "execution_count": 6,
   "id": "outdoor-toilet",
   "metadata": {},
   "outputs": [],
   "source": [
    "y = [random.randint(40,60) for i in range(50)] + [90] + [random.randint(40,60) for i in range(50)]"
   ]
  },
  {
   "cell_type": "code",
   "execution_count": 7,
   "id": "ready-pioneer",
   "metadata": {},
   "outputs": [],
   "source": [
    "pts = list(zip(x,y))"
   ]
  },
  {
   "cell_type": "code",
   "execution_count": 8,
   "id": "standard-surface",
   "metadata": {},
   "outputs": [],
   "source": [
    "tree = itree(pts)"
   ]
  },
  {
   "cell_type": "code",
   "execution_count": 9,
   "id": "quality-measure",
   "metadata": {},
   "outputs": [],
   "source": [
    "x = [a[0][0] for a in tree]"
   ]
  },
  {
   "cell_type": "code",
   "execution_count": 10,
   "id": "least-heritage",
   "metadata": {},
   "outputs": [],
   "source": [
    "y = [a[0][1] for a in tree]"
   ]
  },
  {
   "cell_type": "code",
   "execution_count": 11,
   "id": "social-jamaica",
   "metadata": {},
   "outputs": [],
   "source": [
    "col = [a[1] for a in tree]"
   ]
  },
  {
   "cell_type": "code",
   "execution_count": 12,
   "id": "angry-plaintiff",
   "metadata": {},
   "outputs": [
    {
     "data": {
      "text/plain": [
       "<matplotlib.collections.PathCollection at 0x11489e280>"
      ]
     },
     "execution_count": 12,
     "metadata": {},
     "output_type": "execute_result"
    },
    {
     "data": {
      "image/png": "[encoded data removed]",
      "text/plain": [
       "<Figure size 432x288 with 1 Axes>"
      ]
     },
     "metadata": {
      "needs_background": "light"
     },
     "output_type": "display_data"
    }
   ],
   "source": [
    "plt.scatter(x, y, c=col, cmap=\"Accent\")"
   ]
  },
  {
   "cell_type": "code",
   "execution_count": 13,
   "id": "orange-boost",
   "metadata": {},
   "outputs": [],
   "source": [
    "import collections"
   ]
  },
  {
   "cell_type": "code",
   "execution_count": 14,
   "id": "authentic-improvement",
   "metadata": {},
   "outputs": [
    {
     "data": {
      "text/plain": [
       "Counter({8: 76, 7: 22, 6: 2, 1: 1})"
      ]
     },
     "execution_count": 14,
     "metadata": {},
     "output_type": "execute_result"
    }
   ],
   "source": [
    "collections.Counter(col)"
   ]
  },
  {
   "cell_type": "code",
   "execution_count": null,
   "id": "oriental-radar",
   "metadata": {},
   "outputs": [],
   "source": []
  }
 ],
 "metadata": {
  "kernelspec": {
   "display_name": "Python 3",
   "language": "python",
   "name": "python3"
  },
  "language_info": {
   "codemirror_mode": {
    "name": "ipython",
    "version": 3
   },
   "file_extension": ".py",
   "mimetype": "text/x-python",
   "name": "python",
   "nbconvert_exporter": "python",
   "pygments_lexer": "ipython3",
   "version": "3.8.5"
  }
 },
 "nbformat": 4,
 "nbformat_minor": 5
}
