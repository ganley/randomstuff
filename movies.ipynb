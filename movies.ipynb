{
 "cells": [
  {
   "cell_type": "markdown",
   "id": "statewide-edwards",
   "metadata": {},
   "source": [
    "# IMDb"
   ]
  },
  {
   "cell_type": "code",
   "execution_count": 1,
   "id": "vocational-judges",
   "metadata": {},
   "outputs": [],
   "source": [
    "import pandas as pd"
   ]
  },
  {
   "cell_type": "code",
   "execution_count": 2,
   "id": "personalized-arizona",
   "metadata": {},
   "outputs": [],
   "source": [
    "dataloc = \"https://datasets.imdbws.com/\""
   ]
  },
  {
   "cell_type": "code",
   "execution_count": 3,
   "id": "random-newcastle",
   "metadata": {},
   "outputs": [
    {
     "name": "stderr",
     "output_type": "stream",
     "text": [
      "/usr/local/lib/python3.8/site-packages/IPython/core/interactiveshell.py:3146: DtypeWarning: Columns (7) have mixed types.Specify dtype option on import or set low_memory=False.\n",
      "  has_raised = await self.run_ast_nodes(code_ast.body, cell_name,\n"
     ]
    }
   ],
   "source": [
    "basics = pd.read_csv(f\"{dataloc}title.basics.tsv.gz\",\n",
    "                     compression=\"gzip\",\n",
    "                     delimiter=\"\\t\",\n",
    "                     na_values=\"\\\\N\",\n",
    "                     usecols=[\"tconst\", \"titleType\", \"primaryTitle\", \"startYear\", \"runtimeMinutes\"]\n",
    "                    )"
   ]
  },
  {
   "cell_type": "code",
   "execution_count": 4,
   "id": "scenic-fortune",
   "metadata": {},
   "outputs": [
    {
     "data": {
      "text/html": [
       "<div>\n",
       "<style scoped>\n",
       "    .dataframe tbody tr th:only-of-type {\n",
       "        vertical-align: middle;\n",
       "    }\n",
       "\n",
       "    .dataframe tbody tr th {\n",
       "        vertical-align: top;\n",
       "    }\n",
       "\n",
       "    .dataframe thead th {\n",
       "        text-align: right;\n",
       "    }\n",
       "</style>\n",
       "<table border=\"1\" class=\"dataframe\">\n",
       "  <thead>\n",
       "    <tr style=\"text-align: right;\">\n",
       "      <th></th>\n",
       "      <th>tconst</th>\n",
       "      <th>titleType</th>\n",
       "      <th>primaryTitle</th>\n",
       "      <th>startYear</th>\n",
       "      <th>runtimeMinutes</th>\n",
       "    </tr>\n",
       "  </thead>\n",
       "  <tbody>\n",
       "    <tr>\n",
       "      <th>0</th>\n",
       "      <td>tt0000001</td>\n",
       "      <td>short</td>\n",
       "      <td>Carmencita</td>\n",
       "      <td>1894.0</td>\n",
       "      <td>1.0</td>\n",
       "    </tr>\n",
       "    <tr>\n",
       "      <th>1</th>\n",
       "      <td>tt0000002</td>\n",
       "      <td>short</td>\n",
       "      <td>Le clown et ses chiens</td>\n",
       "      <td>1892.0</td>\n",
       "      <td>5.0</td>\n",
       "    </tr>\n",
       "    <tr>\n",
       "      <th>2</th>\n",
       "      <td>tt0000003</td>\n",
       "      <td>short</td>\n",
       "      <td>Pauvre Pierrot</td>\n",
       "      <td>1892.0</td>\n",
       "      <td>4.0</td>\n",
       "    </tr>\n",
       "    <tr>\n",
       "      <th>3</th>\n",
       "      <td>tt0000004</td>\n",
       "      <td>short</td>\n",
       "      <td>Un bon bock</td>\n",
       "      <td>1892.0</td>\n",
       "      <td>12.0</td>\n",
       "    </tr>\n",
       "    <tr>\n",
       "      <th>4</th>\n",
       "      <td>tt0000005</td>\n",
       "      <td>short</td>\n",
       "      <td>Blacksmith Scene</td>\n",
       "      <td>1893.0</td>\n",
       "      <td>1.0</td>\n",
       "    </tr>\n",
       "  </tbody>\n",
       "</table>\n",
       "</div>"
      ],
      "text/plain": [
       "      tconst titleType            primaryTitle  startYear runtimeMinutes\n",
       "0  tt0000001     short              Carmencita     1894.0            1.0\n",
       "1  tt0000002     short  Le clown et ses chiens     1892.0            5.0\n",
       "2  tt0000003     short          Pauvre Pierrot     1892.0            4.0\n",
       "3  tt0000004     short             Un bon bock     1892.0           12.0\n",
       "4  tt0000005     short        Blacksmith Scene     1893.0            1.0"
      ]
     },
     "execution_count": 4,
     "metadata": {},
     "output_type": "execute_result"
    }
   ],
   "source": [
    "basics.head()"
   ]
  },
  {
   "cell_type": "code",
   "execution_count": 5,
   "id": "strong-cartoon",
   "metadata": {},
   "outputs": [
    {
     "data": {
      "text/plain": [
       "tconst             object\n",
       "titleType          object\n",
       "primaryTitle       object\n",
       "startYear         float64\n",
       "runtimeMinutes     object\n",
       "dtype: object"
      ]
     },
     "execution_count": 5,
     "metadata": {},
     "output_type": "execute_result"
    }
   ],
   "source": [
    "basics.dtypes"
   ]
  },
  {
   "cell_type": "code",
   "execution_count": 6,
   "id": "typical-birth",
   "metadata": {},
   "outputs": [],
   "source": [
    "ratings = pd.read_csv(f\"{dataloc}title.ratings.tsv.gz\", compression=\"gzip\", delimiter=\"\\t\")"
   ]
  },
  {
   "cell_type": "code",
   "execution_count": 7,
   "id": "comparative-administration",
   "metadata": {},
   "outputs": [
    {
     "data": {
      "text/html": [
       "<div>\n",
       "<style scoped>\n",
       "    .dataframe tbody tr th:only-of-type {\n",
       "        vertical-align: middle;\n",
       "    }\n",
       "\n",
       "    .dataframe tbody tr th {\n",
       "        vertical-align: top;\n",
       "    }\n",
       "\n",
       "    .dataframe thead th {\n",
       "        text-align: right;\n",
       "    }\n",
       "</style>\n",
       "<table border=\"1\" class=\"dataframe\">\n",
       "  <thead>\n",
       "    <tr style=\"text-align: right;\">\n",
       "      <th></th>\n",
       "      <th>tconst</th>\n",
       "      <th>averageRating</th>\n",
       "      <th>numVotes</th>\n",
       "    </tr>\n",
       "  </thead>\n",
       "  <tbody>\n",
       "    <tr>\n",
       "      <th>0</th>\n",
       "      <td>tt0000001</td>\n",
       "      <td>5.7</td>\n",
       "      <td>1684</td>\n",
       "    </tr>\n",
       "    <tr>\n",
       "      <th>1</th>\n",
       "      <td>tt0000002</td>\n",
       "      <td>6.0</td>\n",
       "      <td>207</td>\n",
       "    </tr>\n",
       "    <tr>\n",
       "      <th>2</th>\n",
       "      <td>tt0000003</td>\n",
       "      <td>6.5</td>\n",
       "      <td>1421</td>\n",
       "    </tr>\n",
       "    <tr>\n",
       "      <th>3</th>\n",
       "      <td>tt0000004</td>\n",
       "      <td>6.1</td>\n",
       "      <td>121</td>\n",
       "    </tr>\n",
       "    <tr>\n",
       "      <th>4</th>\n",
       "      <td>tt0000005</td>\n",
       "      <td>6.1</td>\n",
       "      <td>2221</td>\n",
       "    </tr>\n",
       "  </tbody>\n",
       "</table>\n",
       "</div>"
      ],
      "text/plain": [
       "      tconst  averageRating  numVotes\n",
       "0  tt0000001            5.7      1684\n",
       "1  tt0000002            6.0       207\n",
       "2  tt0000003            6.5      1421\n",
       "3  tt0000004            6.1       121\n",
       "4  tt0000005            6.1      2221"
      ]
     },
     "execution_count": 7,
     "metadata": {},
     "output_type": "execute_result"
    }
   ],
   "source": [
    "ratings.head()"
   ]
  },
  {
   "cell_type": "code",
   "execution_count": 8,
   "id": "developed-official",
   "metadata": {},
   "outputs": [
    {
     "data": {
      "text/plain": [
       "tconst            object\n",
       "averageRating    float64\n",
       "numVotes           int64\n",
       "dtype: object"
      ]
     },
     "execution_count": 8,
     "metadata": {},
     "output_type": "execute_result"
    }
   ],
   "source": [
    "ratings.dtypes"
   ]
  },
  {
   "cell_type": "code",
   "execution_count": 9,
   "id": "pressed-fault",
   "metadata": {},
   "outputs": [],
   "source": [
    "joined = basics.merge(ratings, on=\"tconst\")"
   ]
  },
  {
   "cell_type": "code",
   "execution_count": 10,
   "id": "invisible-python",
   "metadata": {},
   "outputs": [],
   "source": [
    "joined = joined.astype({\"startYear\":\"Int64\"})"
   ]
  },
  {
   "cell_type": "code",
   "execution_count": 11,
   "id": "cooperative-badge",
   "metadata": {},
   "outputs": [
    {
     "data": {
      "text/plain": [
       "(1123707, 7)"
      ]
     },
     "execution_count": 11,
     "metadata": {},
     "output_type": "execute_result"
    }
   ],
   "source": [
    "joined.shape"
   ]
  },
  {
   "cell_type": "code",
   "execution_count": 12,
   "id": "familiar-wisdom",
   "metadata": {},
   "outputs": [],
   "source": [
    "joined = joined[joined[\"runtimeMinutes\"]!=\"Reality-TV\"]    # remove erroneous record"
   ]
  },
  {
   "cell_type": "code",
   "execution_count": 13,
   "id": "limited-comedy",
   "metadata": {},
   "outputs": [],
   "source": [
    "joined = joined[joined[\"runtimeMinutes\"]!=\"Game-Show\"]    # remove erroneous record"
   ]
  },
  {
   "cell_type": "code",
   "execution_count": 14,
   "id": "thick-knock",
   "metadata": {},
   "outputs": [
    {
     "data": {
      "text/plain": [
       "(1123705, 7)"
      ]
     },
     "execution_count": 14,
     "metadata": {},
     "output_type": "execute_result"
    }
   ],
   "source": [
    "joined.shape"
   ]
  },
  {
   "cell_type": "code",
   "execution_count": 15,
   "id": "sudden-jewelry",
   "metadata": {},
   "outputs": [],
   "source": [
    "joined = joined.astype({\"runtimeMinutes\":float}).astype({\"runtimeMinutes\":\"Int64\"})"
   ]
  },
  {
   "cell_type": "code",
   "execution_count": 16,
   "id": "previous-process",
   "metadata": {},
   "outputs": [
    {
     "data": {
      "text/html": [
       "<div>\n",
       "<style scoped>\n",
       "    .dataframe tbody tr th:only-of-type {\n",
       "        vertical-align: middle;\n",
       "    }\n",
       "\n",
       "    .dataframe tbody tr th {\n",
       "        vertical-align: top;\n",
       "    }\n",
       "\n",
       "    .dataframe thead th {\n",
       "        text-align: right;\n",
       "    }\n",
       "</style>\n",
       "<table border=\"1\" class=\"dataframe\">\n",
       "  <thead>\n",
       "    <tr style=\"text-align: right;\">\n",
       "      <th></th>\n",
       "      <th>tconst</th>\n",
       "      <th>titleType</th>\n",
       "      <th>primaryTitle</th>\n",
       "      <th>startYear</th>\n",
       "      <th>runtimeMinutes</th>\n",
       "      <th>averageRating</th>\n",
       "      <th>numVotes</th>\n",
       "    </tr>\n",
       "  </thead>\n",
       "  <tbody>\n",
       "    <tr>\n",
       "      <th>0</th>\n",
       "      <td>tt0000001</td>\n",
       "      <td>short</td>\n",
       "      <td>Carmencita</td>\n",
       "      <td>1894</td>\n",
       "      <td>1</td>\n",
       "      <td>5.7</td>\n",
       "      <td>1684</td>\n",
       "    </tr>\n",
       "    <tr>\n",
       "      <th>1</th>\n",
       "      <td>tt0000002</td>\n",
       "      <td>short</td>\n",
       "      <td>Le clown et ses chiens</td>\n",
       "      <td>1892</td>\n",
       "      <td>5</td>\n",
       "      <td>6.0</td>\n",
       "      <td>207</td>\n",
       "    </tr>\n",
       "    <tr>\n",
       "      <th>2</th>\n",
       "      <td>tt0000003</td>\n",
       "      <td>short</td>\n",
       "      <td>Pauvre Pierrot</td>\n",
       "      <td>1892</td>\n",
       "      <td>4</td>\n",
       "      <td>6.5</td>\n",
       "      <td>1421</td>\n",
       "    </tr>\n",
       "    <tr>\n",
       "      <th>3</th>\n",
       "      <td>tt0000004</td>\n",
       "      <td>short</td>\n",
       "      <td>Un bon bock</td>\n",
       "      <td>1892</td>\n",
       "      <td>12</td>\n",
       "      <td>6.1</td>\n",
       "      <td>121</td>\n",
       "    </tr>\n",
       "    <tr>\n",
       "      <th>4</th>\n",
       "      <td>tt0000005</td>\n",
       "      <td>short</td>\n",
       "      <td>Blacksmith Scene</td>\n",
       "      <td>1893</td>\n",
       "      <td>1</td>\n",
       "      <td>6.1</td>\n",
       "      <td>2221</td>\n",
       "    </tr>\n",
       "  </tbody>\n",
       "</table>\n",
       "</div>"
      ],
      "text/plain": [
       "      tconst titleType            primaryTitle  startYear  runtimeMinutes  \\\n",
       "0  tt0000001     short              Carmencita       1894               1   \n",
       "1  tt0000002     short  Le clown et ses chiens       1892               5   \n",
       "2  tt0000003     short          Pauvre Pierrot       1892               4   \n",
       "3  tt0000004     short             Un bon bock       1892              12   \n",
       "4  tt0000005     short        Blacksmith Scene       1893               1   \n",
       "\n",
       "   averageRating  numVotes  \n",
       "0            5.7      1684  \n",
       "1            6.0       207  \n",
       "2            6.5      1421  \n",
       "3            6.1       121  \n",
       "4            6.1      2221  "
      ]
     },
     "execution_count": 16,
     "metadata": {},
     "output_type": "execute_result"
    }
   ],
   "source": [
    "joined.head()"
   ]
  },
  {
   "cell_type": "code",
   "execution_count": 17,
   "id": "destroyed-luther",
   "metadata": {},
   "outputs": [],
   "source": [
    "rating_by_runtime = joined[joined[\"runtimeMinutes\"] <= 300].groupby(\"runtimeMinutes\").agg([\"mean\",\"std\", \"count\"])"
   ]
  },
  {
   "cell_type": "code",
   "execution_count": 18,
   "id": "operational-mattress",
   "metadata": {},
   "outputs": [
    {
     "data": {
      "text/html": [
       "<div>\n",
       "<style scoped>\n",
       "    .dataframe tbody tr th:only-of-type {\n",
       "        vertical-align: middle;\n",
       "    }\n",
       "\n",
       "    .dataframe tbody tr th {\n",
       "        vertical-align: top;\n",
       "    }\n",
       "\n",
       "    .dataframe thead tr th {\n",
       "        text-align: left;\n",
       "    }\n",
       "\n",
       "    .dataframe thead tr:last-of-type th {\n",
       "        text-align: right;\n",
       "    }\n",
       "</style>\n",
       "<table border=\"1\" class=\"dataframe\">\n",
       "  <thead>\n",
       "    <tr>\n",
       "      <th></th>\n",
       "      <th colspan=\"3\" halign=\"left\">startYear</th>\n",
       "      <th colspan=\"3\" halign=\"left\">averageRating</th>\n",
       "      <th colspan=\"3\" halign=\"left\">numVotes</th>\n",
       "    </tr>\n",
       "    <tr>\n",
       "      <th></th>\n",
       "      <th>mean</th>\n",
       "      <th>std</th>\n",
       "      <th>count</th>\n",
       "      <th>mean</th>\n",
       "      <th>std</th>\n",
       "      <th>count</th>\n",
       "      <th>mean</th>\n",
       "      <th>std</th>\n",
       "      <th>count</th>\n",
       "    </tr>\n",
       "    <tr>\n",
       "      <th>runtimeMinutes</th>\n",
       "      <th></th>\n",
       "      <th></th>\n",
       "      <th></th>\n",
       "      <th></th>\n",
       "      <th></th>\n",
       "      <th></th>\n",
       "      <th></th>\n",
       "      <th></th>\n",
       "      <th></th>\n",
       "    </tr>\n",
       "  </thead>\n",
       "  <tbody>\n",
       "    <tr>\n",
       "      <th>0</th>\n",
       "      <td>1931.166667</td>\n",
       "      <td>50.905468</td>\n",
       "      <td>6</td>\n",
       "      <td>5.783333</td>\n",
       "      <td>1.411973</td>\n",
       "      <td>6</td>\n",
       "      <td>656.333333</td>\n",
       "      <td>1077.149139</td>\n",
       "      <td>6</td>\n",
       "    </tr>\n",
       "    <tr>\n",
       "      <th>1</th>\n",
       "      <td>1970.336527</td>\n",
       "      <td>51.550761</td>\n",
       "      <td>3444</td>\n",
       "      <td>6.025610</td>\n",
       "      <td>1.517201</td>\n",
       "      <td>3444</td>\n",
       "      <td>107.878339</td>\n",
       "      <td>357.253790</td>\n",
       "      <td>3444</td>\n",
       "    </tr>\n",
       "    <tr>\n",
       "      <th>2</th>\n",
       "      <td>2000.487179</td>\n",
       "      <td>29.391524</td>\n",
       "      <td>4251</td>\n",
       "      <td>6.566996</td>\n",
       "      <td>1.485796</td>\n",
       "      <td>4251</td>\n",
       "      <td>61.313573</td>\n",
       "      <td>291.321409</td>\n",
       "      <td>4251</td>\n",
       "    </tr>\n",
       "    <tr>\n",
       "      <th>3</th>\n",
       "      <td>2003.989336</td>\n",
       "      <td>21.019454</td>\n",
       "      <td>9002</td>\n",
       "      <td>6.714194</td>\n",
       "      <td>1.420134</td>\n",
       "      <td>9004</td>\n",
       "      <td>58.097623</td>\n",
       "      <td>420.738271</td>\n",
       "      <td>9004</td>\n",
       "    </tr>\n",
       "    <tr>\n",
       "      <th>4</th>\n",
       "      <td>2003.435556</td>\n",
       "      <td>17.901596</td>\n",
       "      <td>12763</td>\n",
       "      <td>6.715435</td>\n",
       "      <td>1.367024</td>\n",
       "      <td>12763</td>\n",
       "      <td>57.783593</td>\n",
       "      <td>379.373845</td>\n",
       "      <td>12763</td>\n",
       "    </tr>\n",
       "  </tbody>\n",
       "</table>\n",
       "</div>"
      ],
      "text/plain": [
       "                  startYear                   averageRating                   \\\n",
       "                       mean        std  count          mean       std  count   \n",
       "runtimeMinutes                                                                 \n",
       "0               1931.166667  50.905468      6      5.783333  1.411973      6   \n",
       "1               1970.336527  51.550761   3444      6.025610  1.517201   3444   \n",
       "2               2000.487179  29.391524   4251      6.566996  1.485796   4251   \n",
       "3               2003.989336  21.019454   9002      6.714194  1.420134   9004   \n",
       "4               2003.435556  17.901596  12763      6.715435  1.367024  12763   \n",
       "\n",
       "                  numVotes                      \n",
       "                      mean          std  count  \n",
       "runtimeMinutes                                  \n",
       "0               656.333333  1077.149139      6  \n",
       "1               107.878339   357.253790   3444  \n",
       "2                61.313573   291.321409   4251  \n",
       "3                58.097623   420.738271   9004  \n",
       "4                57.783593   379.373845  12763  "
      ]
     },
     "execution_count": 18,
     "metadata": {},
     "output_type": "execute_result"
    }
   ],
   "source": [
    "rating_by_runtime.head()"
   ]
  },
  {
   "cell_type": "code",
   "execution_count": 19,
   "id": "collect-nigeria",
   "metadata": {},
   "outputs": [],
   "source": [
    "rbr = rating_by_runtime[\"averageRating\"].reset_index()"
   ]
  },
  {
   "cell_type": "code",
   "execution_count": 20,
   "id": "approximate-monitoring",
   "metadata": {},
   "outputs": [
    {
     "data": {
      "text/html": [
       "<div>\n",
       "<style scoped>\n",
       "    .dataframe tbody tr th:only-of-type {\n",
       "        vertical-align: middle;\n",
       "    }\n",
       "\n",
       "    .dataframe tbody tr th {\n",
       "        vertical-align: top;\n",
       "    }\n",
       "\n",
       "    .dataframe thead th {\n",
       "        text-align: right;\n",
       "    }\n",
       "</style>\n",
       "<table border=\"1\" class=\"dataframe\">\n",
       "  <thead>\n",
       "    <tr style=\"text-align: right;\">\n",
       "      <th></th>\n",
       "      <th>runtimeMinutes</th>\n",
       "      <th>mean</th>\n",
       "      <th>std</th>\n",
       "      <th>count</th>\n",
       "    </tr>\n",
       "  </thead>\n",
       "  <tbody>\n",
       "    <tr>\n",
       "      <th>0</th>\n",
       "      <td>0</td>\n",
       "      <td>5.783333</td>\n",
       "      <td>1.411973</td>\n",
       "      <td>6</td>\n",
       "    </tr>\n",
       "    <tr>\n",
       "      <th>1</th>\n",
       "      <td>1</td>\n",
       "      <td>6.025610</td>\n",
       "      <td>1.517201</td>\n",
       "      <td>3444</td>\n",
       "    </tr>\n",
       "    <tr>\n",
       "      <th>2</th>\n",
       "      <td>2</td>\n",
       "      <td>6.566996</td>\n",
       "      <td>1.485796</td>\n",
       "      <td>4251</td>\n",
       "    </tr>\n",
       "    <tr>\n",
       "      <th>3</th>\n",
       "      <td>3</td>\n",
       "      <td>6.714194</td>\n",
       "      <td>1.420134</td>\n",
       "      <td>9004</td>\n",
       "    </tr>\n",
       "    <tr>\n",
       "      <th>4</th>\n",
       "      <td>4</td>\n",
       "      <td>6.715435</td>\n",
       "      <td>1.367024</td>\n",
       "      <td>12763</td>\n",
       "    </tr>\n",
       "  </tbody>\n",
       "</table>\n",
       "</div>"
      ],
      "text/plain": [
       "   runtimeMinutes      mean       std  count\n",
       "0               0  5.783333  1.411973      6\n",
       "1               1  6.025610  1.517201   3444\n",
       "2               2  6.566996  1.485796   4251\n",
       "3               3  6.714194  1.420134   9004\n",
       "4               4  6.715435  1.367024  12763"
      ]
     },
     "execution_count": 20,
     "metadata": {},
     "output_type": "execute_result"
    }
   ],
   "source": [
    "rbr.head()"
   ]
  },
  {
   "cell_type": "code",
   "execution_count": 21,
   "id": "blank-treasure",
   "metadata": {},
   "outputs": [],
   "source": [
    "import matplotlib.pyplot as plt"
   ]
  },
  {
   "cell_type": "code",
   "execution_count": 22,
   "id": "ranging-scope",
   "metadata": {},
   "outputs": [
    {
     "data": {
      "text/plain": [
       "<ErrorbarContainer object of 3 artists>"
      ]
     },
     "execution_count": 22,
     "metadata": {},
     "output_type": "execute_result"
    },
    {
     "data": {
      "image/png": "[encoded data removed]",
      "text/plain": [
       "<Figure size 432x288 with 1 Axes>"
      ]
     },
     "metadata": {
      "needs_background": "light"
     },
     "output_type": "display_data"
    }
   ],
   "source": [
    "plt.errorbar(rbr.index, 'mean', yerr='std', data=rbr, ecolor=\"gray\", elinewidth=1)"
   ]
  },
  {
   "cell_type": "code",
   "execution_count": 23,
   "id": "south-active",
   "metadata": {},
   "outputs": [
    {
     "data": {
      "text/plain": [
       "<AxesSubplot:xlabel='runtimeMinutes'>"
      ]
     },
     "execution_count": 23,
     "metadata": {},
     "output_type": "execute_result"
    },
    {
     "data": {
      "image/png": "[encoded data removed]",
      "text/plain": [
       "<Figure size 432x288 with 1 Axes>"
      ]
     },
     "metadata": {
      "needs_background": "light"
     },
     "output_type": "display_data"
    }
   ],
   "source": [
    "rbr.plot(\"runtimeMinutes\", \"count\")"
   ]
  },
  {
   "cell_type": "code",
   "execution_count": null,
   "id": "jewish-genetics",
   "metadata": {},
   "outputs": [],
   "source": []
  }
 ],
 "metadata": {
  "kernelspec": {
   "display_name": "Python 3",
   "language": "python",
   "name": "python3"
  },
  "language_info": {
   "codemirror_mode": {
    "name": "ipython",
    "version": 3
   },
   "file_extension": ".py",
   "mimetype": "text/x-python",
   "name": "python",
   "nbconvert_exporter": "python",
   "pygments_lexer": "ipython3",
   "version": "3.8.6"
  }
 },
 "nbformat": 4,
 "nbformat_minor": 5
}
